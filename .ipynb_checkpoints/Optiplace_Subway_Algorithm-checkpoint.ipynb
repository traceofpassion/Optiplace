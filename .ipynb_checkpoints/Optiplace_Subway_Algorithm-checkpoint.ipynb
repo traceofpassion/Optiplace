{
 "cells": [
  {
   "cell_type": "markdown",
   "metadata": {},
   "source": [
    "# Setting"
   ]
  },
  {
   "cell_type": "markdown",
   "metadata": {},
   "source": [
    "두 역의 최적화된 거리를 찾습니다."
   ]
  },
  {
   "cell_type": "code",
   "execution_count": 1,
   "metadata": {},
   "outputs": [],
   "source": [
    "import pandas as pd\n",
    "import numpy as np\n",
    "import folium\n",
    "\n",
    "station_side = pd.read_csv('./DATA/station_side.csv')"
   ]
  },
  {
   "cell_type": "code",
   "execution_count": 2,
   "metadata": {},
   "outputs": [],
   "source": [
    "df_count = station_side['st_name'].value_counts().to_frame('transit').reset_index()"
   ]
  },
  {
   "cell_type": "code",
   "execution_count": 3,
   "metadata": {},
   "outputs": [],
   "source": [
    "station_side = (station_side.\n",
    "                merge(df_count, how='left', left_on='st_name', right_on='index').\n",
    "                drop(columns='index'))"
   ]
  },
  {
   "cell_type": "code",
   "execution_count": 4,
   "metadata": {},
   "outputs": [
    {
     "data": {
      "text/html": [
       "<div>\n",
       "<style scoped>\n",
       "    .dataframe tbody tr th:only-of-type {\n",
       "        vertical-align: middle;\n",
       "    }\n",
       "\n",
       "    .dataframe tbody tr th {\n",
       "        vertical-align: top;\n",
       "    }\n",
       "\n",
       "    .dataframe thead th {\n",
       "        text-align: right;\n",
       "    }\n",
       "</style>\n",
       "<table border=\"1\" class=\"dataframe\">\n",
       "  <thead>\n",
       "    <tr style=\"text-align: right;\">\n",
       "      <th></th>\n",
       "      <th>st_name</th>\n",
       "      <th>st_line</th>\n",
       "      <th>st_A</th>\n",
       "      <th>st_B</th>\n",
       "      <th>st_C</th>\n",
       "      <th>transit</th>\n",
       "    </tr>\n",
       "  </thead>\n",
       "  <tbody>\n",
       "    <tr>\n",
       "      <td>0</td>\n",
       "      <td>소요산</td>\n",
       "      <td>1호선</td>\n",
       "      <td>동두천</td>\n",
       "      <td>NaN</td>\n",
       "      <td>NaN</td>\n",
       "      <td>1</td>\n",
       "    </tr>\n",
       "    <tr>\n",
       "      <td>1</td>\n",
       "      <td>동두천</td>\n",
       "      <td>1호선</td>\n",
       "      <td>소요산</td>\n",
       "      <td>보산</td>\n",
       "      <td>NaN</td>\n",
       "      <td>1</td>\n",
       "    </tr>\n",
       "    <tr>\n",
       "      <td>2</td>\n",
       "      <td>보산</td>\n",
       "      <td>1호선</td>\n",
       "      <td>동두천</td>\n",
       "      <td>동두천중앙</td>\n",
       "      <td>NaN</td>\n",
       "      <td>1</td>\n",
       "    </tr>\n",
       "    <tr>\n",
       "      <td>3</td>\n",
       "      <td>동두천중앙</td>\n",
       "      <td>1호선</td>\n",
       "      <td>보산</td>\n",
       "      <td>지행</td>\n",
       "      <td>NaN</td>\n",
       "      <td>1</td>\n",
       "    </tr>\n",
       "    <tr>\n",
       "      <td>4</td>\n",
       "      <td>지행</td>\n",
       "      <td>1호선</td>\n",
       "      <td>동두천중앙</td>\n",
       "      <td>덕정</td>\n",
       "      <td>NaN</td>\n",
       "      <td>1</td>\n",
       "    </tr>\n",
       "  </tbody>\n",
       "</table>\n",
       "</div>"
      ],
      "text/plain": [
       "  st_name st_line   st_A   st_B st_C  transit\n",
       "0     소요산     1호선    동두천    NaN  NaN        1\n",
       "1     동두천     1호선    소요산     보산  NaN        1\n",
       "2      보산     1호선    동두천  동두천중앙  NaN        1\n",
       "3   동두천중앙     1호선     보산     지행  NaN        1\n",
       "4      지행     1호선  동두천중앙     덕정  NaN        1"
      ]
     },
     "execution_count": 4,
     "metadata": {},
     "output_type": "execute_result"
    }
   ],
   "source": [
    "station_side.head()"
   ]
  },
  {
   "cell_type": "markdown",
   "metadata": {},
   "source": [
    "# 동일한 호선에 있을 때"
   ]
  },
  {
   "cell_type": "code",
   "execution_count": 5,
   "metadata": {},
   "outputs": [],
   "source": [
    "start = '신도림'\n",
    "finish = '신설동'"
   ]
  },
  {
   "cell_type": "markdown",
   "metadata": {},
   "source": [
    "## prob_line 함수"
   ]
  },
  {
   "cell_type": "code",
   "execution_count": 6,
   "metadata": {},
   "outputs": [],
   "source": [
    "def prob_line(df,start,finish):\n",
    "    st_line = df.loc[df['st_name']==start,'st_line'].unique()\n",
    "    fn_line = df.loc[df['st_name']==finish,'st_line'].unique()\n",
    "    output = []\n",
    "    for i in range(len(st_line)):\n",
    "        if st_line[i] in fn_line:\n",
    "            output.append(st_line[i])\n",
    "    return output"
   ]
  },
  {
   "cell_type": "code",
   "execution_count": 7,
   "metadata": {},
   "outputs": [],
   "source": [
    "prob_line = prob_line(station_side, start, finish)"
   ]
  },
  {
   "cell_type": "markdown",
   "metadata": {},
   "source": [
    "## Move 함수"
   ]
  },
  {
   "cell_type": "markdown",
   "metadata": {},
   "source": [
    "역 이동을 카운트하도록 누적하는 함수입니다."
   ]
  },
  {
   "cell_type": "code",
   "execution_count": 8,
   "metadata": {},
   "outputs": [],
   "source": [
    "def move(df,st_name):\n",
    "    temp = []\n",
    "    for i in st_name:\n",
    "        unit = df[df['st_name']==i]\n",
    "        temp.append(unit.iloc[0]['st_A'])\n",
    "        temp.append(unit.iloc[0]['st_B'])\n",
    "        temp.append(unit.iloc[0]['st_C'])\n",
    "    temp = pd.Series(temp)\n",
    "    temp = temp[~temp.isnull()].tolist()\n",
    "    return list(set(temp))"
   ]
  },
  {
   "cell_type": "code",
   "execution_count": 9,
   "metadata": {},
   "outputs": [],
   "source": [
    "def move_count(df, line, start, finish):\n",
    "    pool = df[df['st_line']==line]\n",
    "    st_name = [start]\n",
    "    count = 0\n",
    "    if start == finish:\n",
    "        pass\n",
    "    else:\n",
    "        while True:\n",
    "            st_name = move(pool,st_name)\n",
    "            count += 1\n",
    "            if finish in st_name:\n",
    "                break\n",
    "    return count"
   ]
  },
  {
   "cell_type": "code",
   "execution_count": 135,
   "metadata": {},
   "outputs": [
    {
     "data": {
      "text/plain": [
       "28"
      ]
     },
     "execution_count": 135,
     "metadata": {},
     "output_type": "execute_result"
    }
   ],
   "source": [
    "move_count(station_side,'2호선','까치산','신설동')"
   ]
  },
  {
   "cell_type": "markdown",
   "metadata": {},
   "source": [
    "# 환승이 필요할 때"
   ]
  },
  {
   "cell_type": "markdown",
   "metadata": {},
   "source": [
    "1. 스타트 호선에서 하나를 잡고, 피니시 호선이 하나라도 나올 때까지 이동시킨다.\n",
    "2. 피니시 호선이 나왔을 때 과정을 포함한다.\n",
    "3. 여러개의 케이스 중 count 가 가장 낮은 것\n",
    "\n",
    "만약 1번 이상의 환승이 좋다면? 3번까지 해본다."
   ]
  },
  {
   "cell_type": "markdown",
   "metadata": {},
   "source": [
    "### 1번 환승"
   ]
  },
  {
   "cell_type": "code",
   "execution_count": 29,
   "metadata": {},
   "outputs": [],
   "source": [
    "start = '역곡'\n",
    "finish = '합정'"
   ]
  },
  {
   "cell_type": "code",
   "execution_count": 30,
   "metadata": {},
   "outputs": [],
   "source": [
    "st_line = station_side.loc[station_side['st_name']==start,'st_line'].unique()\n",
    "fn_line = station_side.loc[station_side['st_name']==finish,'st_line'].unique()"
   ]
  },
  {
   "cell_type": "code",
   "execution_count": 33,
   "metadata": {},
   "outputs": [
    {
     "data": {
      "text/plain": [
       "array(['2호선', '6호선'], dtype=object)"
      ]
     },
     "execution_count": 33,
     "metadata": {},
     "output_type": "execute_result"
    }
   ],
   "source": [
    "fn_line"
   ]
  },
  {
   "cell_type": "code",
   "execution_count": 42,
   "metadata": {},
   "outputs": [],
   "source": [
    "sp,tp,tn = [[],[],[]]\n",
    "for i in st_line:\n",
    "    pool = station_side.loc[station_side['st_line']==i,'st_name'].tolist()\n",
    "    for j in fn_line:\n",
    "        for k in pool:\n",
    "            if k in station_side.loc[station_side['st_line']==j,'st_name'].tolist():\n",
    "                sp.append(i);tp.append(j);tn.append(k)\n",
    "output = pd.DataFrame({'sp':sp,'tp':tp,'tn':tn})"
   ]
  },
  {
   "cell_type": "code",
   "execution_count": 43,
   "metadata": {},
   "outputs": [
    {
     "data": {
      "text/html": [
       "<div>\n",
       "<style scoped>\n",
       "    .dataframe tbody tr th:only-of-type {\n",
       "        vertical-align: middle;\n",
       "    }\n",
       "\n",
       "    .dataframe tbody tr th {\n",
       "        vertical-align: top;\n",
       "    }\n",
       "\n",
       "    .dataframe thead th {\n",
       "        text-align: right;\n",
       "    }\n",
       "</style>\n",
       "<table border=\"1\" class=\"dataframe\">\n",
       "  <thead>\n",
       "    <tr style=\"text-align: right;\">\n",
       "      <th></th>\n",
       "      <th>sp</th>\n",
       "      <th>tp</th>\n",
       "      <th>tn</th>\n",
       "    </tr>\n",
       "  </thead>\n",
       "  <tbody>\n",
       "    <tr>\n",
       "      <td>0</td>\n",
       "      <td>1호선</td>\n",
       "      <td>2호선</td>\n",
       "      <td>신설동</td>\n",
       "    </tr>\n",
       "    <tr>\n",
       "      <td>1</td>\n",
       "      <td>1호선</td>\n",
       "      <td>2호선</td>\n",
       "      <td>시청</td>\n",
       "    </tr>\n",
       "    <tr>\n",
       "      <td>2</td>\n",
       "      <td>1호선</td>\n",
       "      <td>2호선</td>\n",
       "      <td>신도림</td>\n",
       "    </tr>\n",
       "    <tr>\n",
       "      <td>3</td>\n",
       "      <td>1호선</td>\n",
       "      <td>6호선</td>\n",
       "      <td>석계</td>\n",
       "    </tr>\n",
       "    <tr>\n",
       "      <td>4</td>\n",
       "      <td>1호선</td>\n",
       "      <td>6호선</td>\n",
       "      <td>동묘앞</td>\n",
       "    </tr>\n",
       "  </tbody>\n",
       "</table>\n",
       "</div>"
      ],
      "text/plain": [
       "    sp   tp   tn\n",
       "0  1호선  2호선  신설동\n",
       "1  1호선  2호선   시청\n",
       "2  1호선  2호선  신도림\n",
       "3  1호선  6호선   석계\n",
       "4  1호선  6호선  동묘앞"
      ]
     },
     "execution_count": 43,
     "metadata": {},
     "output_type": "execute_result"
    }
   ],
   "source": [
    "output"
   ]
  },
  {
   "cell_type": "markdown",
   "metadata": {},
   "source": [
    "# Example"
   ]
  },
  {
   "cell_type": "markdown",
   "metadata": {},
   "source": [
    "## centering 함수"
   ]
  },
  {
   "cell_type": "markdown",
   "metadata": {},
   "source": [
    "- N명의 좌표가 주어졌을 때, 중점 그룹을 찾아주는 함수입니다."
   ]
  },
  {
   "cell_type": "code",
   "execution_count": 25,
   "metadata": {},
   "outputs": [],
   "source": [
    "def centering(geocodes):\n",
    "    points = []\n",
    "    if len(geocodes) > 2:\n",
    "        for i in range(len(geocodes)):\n",
    "            for j in range(len(geocodes)):\n",
    "                if i != j:\n",
    "                    point = {'lat':(geocodes[i]['lat'] + geocodes[j]['lat'])/2,\n",
    "                             'lng':(geocodes[i]['lng'] + geocodes[j]['lng'])/2}\n",
    "                    points.append(point)                        \n",
    "    elif len(geocodes) == 2:\n",
    "        point = {'lat':(geocodes[0]['lat'] + geocodes[1]['lat'])/2,\n",
    "                 'lng':(geocodes[0]['lng'] + geocodes[1]['lng'])/2}\n",
    "        points.append(point)\n",
    "    else:\n",
    "        point = {'lat':geocodes[0]['lat'],\n",
    "                 'lng':geocodes[0]['lng']}\n",
    "        points.append(point)\n",
    "    \n",
    "    # 중복된 데이터 제거\n",
    "    compare = set()\n",
    "    output = []\n",
    "    for point in points:\n",
    "        unit = tuple(point.items())\n",
    "        if unit not in compare:\n",
    "            compare.add(unit)\n",
    "            output.append(point)\n",
    "    return(output)"
   ]
  },
  {
   "cell_type": "markdown",
   "metadata": {},
   "source": [
    "## distance 함수"
   ]
  },
  {
   "cell_type": "markdown",
   "metadata": {},
   "source": [
    "- 중점 그룹과 서울에 있는 모든 역의 좌표와의 거리 평균을 계산해주는 함수입니다."
   ]
  },
  {
   "cell_type": "code",
   "execution_count": 26,
   "metadata": {},
   "outputs": [],
   "source": [
    "def distance(centers,lat,lng):\n",
    "    distances = []\n",
    "    for i in range(len(centers)):\n",
    "        hor = (centers[i]['lat'] - lat)**2\n",
    "        ver = (centers[i]['lng'] - lng)**2\n",
    "        distances.append(math.sqrt(hor + ver))\n",
    "    return np.mean(distances)"
   ]
  },
  {
   "cell_type": "markdown",
   "metadata": {},
   "source": [
    "## optimize 함수"
   ]
  },
  {
   "cell_type": "markdown",
   "metadata": {},
   "source": [
    "- Googlemaps를 통해 N명의 좌표를 불러오고, 중점 그룹에서 가까운 역을 거리 순으로 정렬하여 출력하는 함수입니다."
   ]
  },
  {
   "cell_type": "code",
   "execution_count": 27,
   "metadata": {},
   "outputs": [],
   "source": [
    "def optimize(location):\n",
    "    geocodes = []\n",
    "    for k in range(len(location)):\n",
    "        result_01 = gmaps.geocode(location[k])[0].get('geometry')['location']\n",
    "        result_02 = {'lat':float(result_01['lat']),\n",
    "                     'lng':float(result_01['lng'])}\n",
    "        geocodes.append(result_02)  \n",
    "        \n",
    "    centers = centering(geocodes)\n",
    "    df['distance'] = df.apply(lambda x: distance(centers=centers,\n",
    "                                                 lat=x['st_x'],\n",
    "                                                 lng=x['st_y']), axis=1)\n",
    "    place = df.sort_values('distance', ascending=True).head(5).reset_index(drop=True)\n",
    "    return(place)"
   ]
  },
  {
   "cell_type": "markdown",
   "metadata": {},
   "source": [
    "# 적용 사례"
   ]
  },
  {
   "cell_type": "code",
   "execution_count": 28,
   "metadata": {},
   "outputs": [
    {
     "ename": "NameError",
     "evalue": "name 'gmaps' is not defined",
     "output_type": "error",
     "traceback": [
      "\u001b[1;31m---------------------------------------------------------------------------\u001b[0m",
      "\u001b[1;31mNameError\u001b[0m                                 Traceback (most recent call last)",
      "\u001b[1;32m<ipython-input-28-671e69ae7747>\u001b[0m in \u001b[0;36m<module>\u001b[1;34m\u001b[0m\n\u001b[0;32m      1\u001b[0m \u001b[0mlocation\u001b[0m \u001b[1;33m=\u001b[0m \u001b[1;33m[\u001b[0m\u001b[1;34m'제이드카운티'\u001b[0m\u001b[1;33m,\u001b[0m\u001b[1;34m'청량리역'\u001b[0m\u001b[1;33m,\u001b[0m\u001b[1;34m'화곡동'\u001b[0m\u001b[1;33m]\u001b[0m\u001b[1;33m\u001b[0m\u001b[1;33m\u001b[0m\u001b[0m\n\u001b[1;32m----> 2\u001b[1;33m \u001b[0moptimize\u001b[0m\u001b[1;33m(\u001b[0m\u001b[0mlocation\u001b[0m\u001b[1;33m)\u001b[0m\u001b[1;33m\u001b[0m\u001b[1;33m\u001b[0m\u001b[0m\n\u001b[0m",
      "\u001b[1;32m<ipython-input-27-75a4a52e9b34>\u001b[0m in \u001b[0;36moptimize\u001b[1;34m(location)\u001b[0m\n\u001b[0;32m      2\u001b[0m     \u001b[0mgeocodes\u001b[0m \u001b[1;33m=\u001b[0m \u001b[1;33m[\u001b[0m\u001b[1;33m]\u001b[0m\u001b[1;33m\u001b[0m\u001b[1;33m\u001b[0m\u001b[0m\n\u001b[0;32m      3\u001b[0m     \u001b[1;32mfor\u001b[0m \u001b[0mk\u001b[0m \u001b[1;32min\u001b[0m \u001b[0mrange\u001b[0m\u001b[1;33m(\u001b[0m\u001b[0mlen\u001b[0m\u001b[1;33m(\u001b[0m\u001b[0mlocation\u001b[0m\u001b[1;33m)\u001b[0m\u001b[1;33m)\u001b[0m\u001b[1;33m:\u001b[0m\u001b[1;33m\u001b[0m\u001b[1;33m\u001b[0m\u001b[0m\n\u001b[1;32m----> 4\u001b[1;33m         \u001b[0mresult_01\u001b[0m \u001b[1;33m=\u001b[0m \u001b[0mgmaps\u001b[0m\u001b[1;33m.\u001b[0m\u001b[0mgeocode\u001b[0m\u001b[1;33m(\u001b[0m\u001b[0mlocation\u001b[0m\u001b[1;33m[\u001b[0m\u001b[0mk\u001b[0m\u001b[1;33m]\u001b[0m\u001b[1;33m)\u001b[0m\u001b[1;33m[\u001b[0m\u001b[1;36m0\u001b[0m\u001b[1;33m]\u001b[0m\u001b[1;33m.\u001b[0m\u001b[0mget\u001b[0m\u001b[1;33m(\u001b[0m\u001b[1;34m'geometry'\u001b[0m\u001b[1;33m)\u001b[0m\u001b[1;33m[\u001b[0m\u001b[1;34m'location'\u001b[0m\u001b[1;33m]\u001b[0m\u001b[1;33m\u001b[0m\u001b[1;33m\u001b[0m\u001b[0m\n\u001b[0m\u001b[0;32m      5\u001b[0m         result_02 = {'lat':float(result_01['lat']),\n\u001b[0;32m      6\u001b[0m                      'lng':float(result_01['lng'])}\n",
      "\u001b[1;31mNameError\u001b[0m: name 'gmaps' is not defined"
     ]
    }
   ],
   "source": [
    "location = ['제이드카운티','청량리역','화곡동']\n",
    "optimize(location)"
   ]
  }
 ],
 "metadata": {
  "kernelspec": {
   "display_name": "Python 3",
   "language": "python",
   "name": "python3"
  },
  "language_info": {
   "codemirror_mode": {
    "name": "ipython",
    "version": 3
   },
   "file_extension": ".py",
   "mimetype": "text/x-python",
   "name": "python",
   "nbconvert_exporter": "python",
   "pygments_lexer": "ipython3",
   "version": "3.7.4"
  },
  "toc": {
   "base_numbering": 1,
   "nav_menu": {},
   "number_sections": true,
   "sideBar": true,
   "skip_h1_title": false,
   "title_cell": "Table of Contents",
   "title_sidebar": "Contents",
   "toc_cell": false,
   "toc_position": {
    "height": "calc(100% - 180px)",
    "left": "10px",
    "top": "150px",
    "width": "238.947px"
   },
   "toc_section_display": true,
   "toc_window_display": true
  }
 },
 "nbformat": 4,
 "nbformat_minor": 4
}
