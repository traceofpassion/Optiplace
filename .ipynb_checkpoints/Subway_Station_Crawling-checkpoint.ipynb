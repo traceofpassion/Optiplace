{
 "cells": [
  {
   "cell_type": "markdown",
   "metadata": {},
   "source": [
    "# 라이브러리"
   ]
  },
  {
   "cell_type": "code",
   "execution_count": 1,
   "metadata": {},
   "outputs": [],
   "source": [
    "import pandas as pd\n",
    "import requests\n",
    "from selenium import webdriver\n",
    "from selenium.webdriver.common.keys import Keys\n",
    "from bs4 import BeautifulSoup"
   ]
  },
  {
   "cell_type": "markdown",
   "metadata": {},
   "source": [
    "# 역 정보 수집"
   ]
  },
  {
   "cell_type": "code",
   "execution_count": 2,
   "metadata": {},
   "outputs": [],
   "source": [
    "def SubwayInfoCrawling():\n",
    "    options = webdriver.ChromeOptions()\n",
    "    options.add_argument('headless')\n",
    "\n",
    "    driver = webdriver.Chrome(\"chromedriver.exe\", options=options)\n",
    "    driver.get('http://www.seoulmetro.co.kr/kr/cyberStation.do')\n",
    "\n",
    "    source = driver.page_source\n",
    "    soup = BeautifulSoup(source, 'html.parser')\n",
    "    mapinfo = soup.find('div', 'mapInfo')\n",
    "    lines = mapinfo.find_all('li')\n",
    "\n",
    "    output = pd.DataFrame()\n",
    "    for i in range(len(lines)):\n",
    "        st_line = lines[i].span.text\n",
    "        st_list = lines[i].div.text.split(',')\n",
    "        for j in range(len(st_list)):\n",
    "            st_name = st_list[j].strip()\n",
    "            unit = pd.DataFrame({'st_name':[st_name],\n",
    "                                 'st_line':[st_line]})\n",
    "            output = pd.concat([output,unit], axis=0)\n",
    "\n",
    "    output = output.reset_index(drop=True)\n",
    "    driver.close()\n",
    "    return output"
   ]
  },
  {
   "cell_type": "code",
   "execution_count": 3,
   "metadata": {},
   "outputs": [],
   "source": [
    "st_info = SubwayInfoCrawling()"
   ]
  },
  {
   "cell_type": "markdown",
   "metadata": {},
   "source": [
    "## 데이터 전처리\n",
    "### 호선명"
   ]
  },
  {
   "cell_type": "code",
   "execution_count": 4,
   "metadata": {},
   "outputs": [
    {
     "name": "stdout",
     "output_type": "stream",
     "text": [
      "['1호선' '2호선' '3호선' '4호선' '5호선' '6호선' '7호선' '8호선' '9호선' '인천1호선' '인천2호선'\n",
      " '분당' '신분당' '경의중앙' '공항철도' '경춘선' '수인선' '의정부경전철' '용인경전철' '경강선' '우이신설경전철'\n",
      " '서해선' '김포']\n"
     ]
    }
   ],
   "source": [
    "print(st_info['st_line'].unique())"
   ]
  },
  {
   "cell_type": "code",
   "execution_count": 5,
   "metadata": {},
   "outputs": [],
   "source": [
    "line_dict = {\n",
    "    '분당':'분당선',\n",
    "    '신분당':'신분당선',\n",
    "    '경의중앙':'경의중앙선',\n",
    "    '용인경전철':'에버라인',\n",
    "    '우이신설경전철':'우이신설선',\n",
    "    '김포':'김포골드라인'    \n",
    "}"
   ]
  },
  {
   "cell_type": "code",
   "execution_count": 6,
   "metadata": {},
   "outputs": [],
   "source": [
    "st_info['st_line'] = st_info['st_line'].replace(line_dict)"
   ]
  },
  {
   "cell_type": "markdown",
   "metadata": {},
   "source": [
    "### 역명"
   ]
  },
  {
   "cell_type": "code",
   "execution_count": 7,
   "metadata": {},
   "outputs": [],
   "source": [
    "st_info.loc[st_info['st_name']=='4·19민주묘지','st_name'] = '4.19민주묘지'\n",
    "st_info.loc[st_info['st_name']=='사우(김포시청)','st_name'] = '사우'\n",
    "st_info['st_name'] = st_info['st_name'].apply(lambda x: x if x[-1]=='역' else x + '역')"
   ]
  },
  {
   "cell_type": "markdown",
   "metadata": {},
   "source": [
    "# 역 주소 크롤링"
   ]
  },
  {
   "cell_type": "code",
   "execution_count": 8,
   "metadata": {},
   "outputs": [],
   "source": [
    "kakao_api_key = pd.read_csv(r'C:\\Users\\YHS\\Google Drive\\Secret\\kakao.csv')\n",
    "# 제 고유의 카카오 api 입니다. 헤더로 GET 해야 응답을 받을 수 있습니다."
   ]
  },
  {
   "cell_type": "code",
   "execution_count": 9,
   "metadata": {},
   "outputs": [],
   "source": [
    "headers = {'Authorization':f\"{kakao_api_key['rest_api'][0]}\"}"
   ]
  },
  {
   "cell_type": "code",
   "execution_count": 10,
   "metadata": {},
   "outputs": [],
   "source": [
    "def Geocoding(st_name, st_line):\n",
    "    url = f'https://dapi.kakao.com/v2/local/search/keyword.json?query={st_name} {st_line}'\n",
    "    response = requests.get(url, headers=headers)\n",
    "    lat = response.json()['documents'][0]['y']\n",
    "    lng = response.json()['documents'][0]['x']\n",
    "    return [lat,lng]"
   ]
  },
  {
   "cell_type": "code",
   "execution_count": 11,
   "metadata": {},
   "outputs": [],
   "source": [
    "st_info['coordinates'] = st_info.apply(lambda x: Geocoding(x['st_name'], x['st_line']), axis=1)"
   ]
  },
  {
   "cell_type": "code",
   "execution_count": 12,
   "metadata": {},
   "outputs": [],
   "source": [
    "st_info['lat'] = st_info['coordinates'].apply(lambda x: x[0])\n",
    "st_info['lng'] = st_info['coordinates'].apply(lambda x: x[1])\n",
    "st_info = st_info.drop(columns='coordinates')"
   ]
  },
  {
   "cell_type": "code",
   "execution_count": 13,
   "metadata": {},
   "outputs": [],
   "source": [
    "st_info.to_csv('./data/subway_location_info.csv', index=False)"
   ]
  }
 ],
 "metadata": {
  "kernelspec": {
   "display_name": "Python 3",
   "language": "python",
   "name": "python3"
  },
  "language_info": {
   "codemirror_mode": {
    "name": "ipython",
    "version": 3
   },
   "file_extension": ".py",
   "mimetype": "text/x-python",
   "name": "python",
   "nbconvert_exporter": "python",
   "pygments_lexer": "ipython3",
   "version": "3.7.6"
  },
  "toc": {
   "base_numbering": 1,
   "nav_menu": {},
   "number_sections": true,
   "sideBar": true,
   "skip_h1_title": false,
   "title_cell": "Table of Contents",
   "title_sidebar": "Contents",
   "toc_cell": false,
   "toc_position": {},
   "toc_section_display": true,
   "toc_window_display": true
  },
  "varInspector": {
   "cols": {
    "lenName": 16,
    "lenType": 16,
    "lenVar": 40
   },
   "kernels_config": {
    "python": {
     "delete_cmd_postfix": "",
     "delete_cmd_prefix": "del ",
     "library": "var_list.py",
     "varRefreshCmd": "print(var_dic_list())"
    },
    "r": {
     "delete_cmd_postfix": ") ",
     "delete_cmd_prefix": "rm(",
     "library": "var_list.r",
     "varRefreshCmd": "cat(var_dic_list()) "
    }
   },
   "types_to_exclude": [
    "module",
    "function",
    "builtin_function_or_method",
    "instance",
    "_Feature"
   ],
   "window_display": false
  }
 },
 "nbformat": 4,
 "nbformat_minor": 4
}
