{
 "cells": [
  {
   "cell_type": "code",
   "execution_count": 6,
   "metadata": {},
   "outputs": [
    {
     "data": {
      "text/html": [
       "<div style=\"width:100%;\"><div style=\"position:relative;width:100%;height:0;padding-bottom:60%;\"><iframe src=\"data:text/html;charset=utf-8;base64,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\" style=\"position:absolute;width:100%;height:100%;left:0;top:0;border:none !important;\" allowfullscreen webkitallowfullscreen mozallowfullscreen></iframe></div></div>"
      ],
      "text/plain": [
       "<folium.folium.Map at 0x1c4e370fc08>"
      ]
     },
     "metadata": {},
     "output_type": "display_data"
    },
    {
     "data": {
      "text/html": [
       "<div>\n",
       "<style scoped>\n",
       "    .dataframe tbody tr th:only-of-type {\n",
       "        vertical-align: middle;\n",
       "    }\n",
       "\n",
       "    .dataframe tbody tr th {\n",
       "        vertical-align: top;\n",
       "    }\n",
       "\n",
       "    .dataframe thead th {\n",
       "        text-align: right;\n",
       "    }\n",
       "</style>\n",
       "<table border=\"1\" class=\"dataframe\">\n",
       "  <thead>\n",
       "    <tr style=\"text-align: right;\">\n",
       "      <th></th>\n",
       "      <th>st_name</th>\n",
       "      <th>st_line</th>\n",
       "      <th>lat</th>\n",
       "      <th>lng</th>\n",
       "      <th>distance</th>\n",
       "    </tr>\n",
       "  </thead>\n",
       "  <tbody>\n",
       "    <tr>\n",
       "      <td>0</td>\n",
       "      <td>광흥창역</td>\n",
       "      <td>6호선</td>\n",
       "      <td>37.547487</td>\n",
       "      <td>126.932031</td>\n",
       "      <td>0.010382</td>\n",
       "    </tr>\n",
       "    <tr>\n",
       "      <td>1</td>\n",
       "      <td>여의나루역</td>\n",
       "      <td>5호선</td>\n",
       "      <td>37.527147</td>\n",
       "      <td>126.932986</td>\n",
       "      <td>0.010612</td>\n",
       "    </tr>\n",
       "    <tr>\n",
       "      <td>2</td>\n",
       "      <td>마포역</td>\n",
       "      <td>5호선</td>\n",
       "      <td>37.539555</td>\n",
       "      <td>126.945865</td>\n",
       "      <td>0.010994</td>\n",
       "    </tr>\n",
       "    <tr>\n",
       "      <td>3</td>\n",
       "      <td>대흥역</td>\n",
       "      <td>6호선</td>\n",
       "      <td>37.547648</td>\n",
       "      <td>126.942473</td>\n",
       "      <td>0.012526</td>\n",
       "    </tr>\n",
       "    <tr>\n",
       "      <td>4</td>\n",
       "      <td>서강대역</td>\n",
       "      <td>경의중앙선</td>\n",
       "      <td>37.552138</td>\n",
       "      <td>126.935508</td>\n",
       "      <td>0.014590</td>\n",
       "    </tr>\n",
       "  </tbody>\n",
       "</table>\n",
       "</div>"
      ],
      "text/plain": [
       "  st_name st_line        lat         lng  distance\n",
       "0    광흥창역     6호선  37.547487  126.932031  0.010382\n",
       "1   여의나루역     5호선  37.527147  126.932986  0.010612\n",
       "2     마포역     5호선  37.539555  126.945865  0.010994\n",
       "3     대흥역     6호선  37.547648  126.942473  0.012526\n",
       "4    서강대역   경의중앙선  37.552138  126.935508  0.014590"
      ]
     },
     "execution_count": 6,
     "metadata": {},
     "output_type": "execute_result"
    }
   ],
   "source": [
    "import Optiplace\n",
    "location = ['역곡역','회기역']\n",
    "Optiplace.optimize(location)"
   ]
  }
 ],
 "metadata": {
  "kernelspec": {
   "display_name": "Python 3",
   "language": "python",
   "name": "python3"
  },
  "language_info": {
   "codemirror_mode": {
    "name": "ipython",
    "version": 3
   },
   "file_extension": ".py",
   "mimetype": "text/x-python",
   "name": "python",
   "nbconvert_exporter": "python",
   "pygments_lexer": "ipython3",
   "version": "3.7.4"
  },
  "toc": {
   "base_numbering": 1,
   "nav_menu": {},
   "number_sections": true,
   "sideBar": true,
   "skip_h1_title": false,
   "title_cell": "Table of Contents",
   "title_sidebar": "Contents",
   "toc_cell": false,
   "toc_position": {
    "height": "calc(100% - 180px)",
    "left": "10px",
    "top": "150px",
    "width": "250.958px"
   },
   "toc_section_display": true,
   "toc_window_display": false
  },
  "varInspector": {
   "cols": {
    "lenName": 16,
    "lenType": 16,
    "lenVar": 40
   },
   "kernels_config": {
    "python": {
     "delete_cmd_postfix": "",
     "delete_cmd_prefix": "del ",
     "library": "var_list.py",
     "varRefreshCmd": "print(var_dic_list())"
    },
    "r": {
     "delete_cmd_postfix": ") ",
     "delete_cmd_prefix": "rm(",
     "library": "var_list.r",
     "varRefreshCmd": "cat(var_dic_list()) "
    }
   },
   "types_to_exclude": [
    "module",
    "function",
    "builtin_function_or_method",
    "instance",
    "_Feature"
   ],
   "window_display": false
  }
 },
 "nbformat": 4,
 "nbformat_minor": 4
}
